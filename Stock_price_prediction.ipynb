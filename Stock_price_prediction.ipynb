{
 "cells": [
  {
   "cell_type": "code",
   "execution_count": 2,
   "id": "b18daab7",
   "metadata": {},
   "outputs": [],
   "source": [
    "import pandas as pd\n",
    "import numpy as np\n",
    "from matplotlib import pyplot as plt\n",
    "import warnings\n",
    "warnings.filterwarnings('ignore')"
   ]
  },
  {
   "cell_type": "code",
   "execution_count": 3,
   "id": "35b8f7db",
   "metadata": {},
   "outputs": [
    {
     "data": {
      "text/html": [
       "<div>\n",
       "<style scoped>\n",
       "    .dataframe tbody tr th:only-of-type {\n",
       "        vertical-align: middle;\n",
       "    }\n",
       "\n",
       "    .dataframe tbody tr th {\n",
       "        vertical-align: top;\n",
       "    }\n",
       "\n",
       "    .dataframe thead th {\n",
       "        text-align: right;\n",
       "    }\n",
       "</style>\n",
       "<table border=\"1\" class=\"dataframe\">\n",
       "  <thead>\n",
       "    <tr style=\"text-align: right;\">\n",
       "      <th></th>\n",
       "      <th>Identifier</th>\n",
       "      <th>Date</th>\n",
       "      <th>Time</th>\n",
       "      <th>Open</th>\n",
       "      <th>High</th>\n",
       "      <th>Low</th>\n",
       "      <th>Close</th>\n",
       "      <th>Volume</th>\n",
       "      <th>Extra</th>\n",
       "    </tr>\n",
       "  </thead>\n",
       "  <tbody>\n",
       "    <tr>\n",
       "      <th>2319690</th>\n",
       "      <td>BANKNIFTY</td>\n",
       "      <td>2020/12/31</td>\n",
       "      <td>15:32</td>\n",
       "      <td>31264.10</td>\n",
       "      <td>31264.10</td>\n",
       "      <td>31264.10</td>\n",
       "      <td>31264.10</td>\n",
       "      <td>0</td>\n",
       "      <td>0.0</td>\n",
       "    </tr>\n",
       "    <tr>\n",
       "      <th>2319691</th>\n",
       "      <td>NIFTY</td>\n",
       "      <td>2020/12/31</td>\n",
       "      <td>15:32</td>\n",
       "      <td>13981.80</td>\n",
       "      <td>13981.80</td>\n",
       "      <td>13981.80</td>\n",
       "      <td>13981.80</td>\n",
       "      <td>0</td>\n",
       "      <td>0.0</td>\n",
       "    </tr>\n",
       "    <tr>\n",
       "      <th>2319692</th>\n",
       "      <td>INDIAVIX</td>\n",
       "      <td>2020/12/31</td>\n",
       "      <td>15:33</td>\n",
       "      <td>21.09</td>\n",
       "      <td>21.09</td>\n",
       "      <td>21.09</td>\n",
       "      <td>21.09</td>\n",
       "      <td>0</td>\n",
       "      <td>0.0</td>\n",
       "    </tr>\n",
       "    <tr>\n",
       "      <th>2319693</th>\n",
       "      <td>BANKNIFTY_F1</td>\n",
       "      <td>2020/12/31</td>\n",
       "      <td>18:49</td>\n",
       "      <td>31264.10</td>\n",
       "      <td>31264.10</td>\n",
       "      <td>31264.10</td>\n",
       "      <td>31264.10</td>\n",
       "      <td>1</td>\n",
       "      <td>0.0</td>\n",
       "    </tr>\n",
       "    <tr>\n",
       "      <th>2319694</th>\n",
       "      <td>NIFTY_F1</td>\n",
       "      <td>2020/12/31</td>\n",
       "      <td>18:49</td>\n",
       "      <td>13981.80</td>\n",
       "      <td>13981.80</td>\n",
       "      <td>13981.80</td>\n",
       "      <td>13981.80</td>\n",
       "      <td>1</td>\n",
       "      <td>0.0</td>\n",
       "    </tr>\n",
       "  </tbody>\n",
       "</table>\n",
       "</div>"
      ],
      "text/plain": [
       "           Identifier        Date   Time      Open      High       Low  \\\n",
       "2319690     BANKNIFTY  2020/12/31  15:32  31264.10  31264.10  31264.10   \n",
       "2319691         NIFTY  2020/12/31  15:32  13981.80  13981.80  13981.80   \n",
       "2319692      INDIAVIX  2020/12/31  15:33     21.09     21.09     21.09   \n",
       "2319693  BANKNIFTY_F1  2020/12/31  18:49  31264.10  31264.10  31264.10   \n",
       "2319694      NIFTY_F1  2020/12/31  18:49  13981.80  13981.80  13981.80   \n",
       "\n",
       "            Close  Volume  Extra  \n",
       "2319690  31264.10       0    0.0  \n",
       "2319691  13981.80       0    0.0  \n",
       "2319692     21.09       0    0.0  \n",
       "2319693  31264.10       1    0.0  \n",
       "2319694  13981.80       1    0.0  "
      ]
     },
     "execution_count": 3,
     "metadata": {},
     "output_type": "execute_result"
    }
   ],
   "source": [
    "finance=pd.read_csv(\"finance_data.csv\")\n",
    "finance.tail()"
   ]
  },
  {
   "cell_type": "code",
   "execution_count": 4,
   "id": "dd8297ca",
   "metadata": {},
   "outputs": [],
   "source": [
    "df=finance.drop(\"Extra\",axis=1)"
   ]
  },
  {
   "cell_type": "code",
   "execution_count": 5,
   "id": "83f17fc2",
   "metadata": {},
   "outputs": [
    {
     "data": {
      "text/html": [
       "<div>\n",
       "<style scoped>\n",
       "    .dataframe tbody tr th:only-of-type {\n",
       "        vertical-align: middle;\n",
       "    }\n",
       "\n",
       "    .dataframe tbody tr th {\n",
       "        vertical-align: top;\n",
       "    }\n",
       "\n",
       "    .dataframe thead th {\n",
       "        text-align: right;\n",
       "    }\n",
       "</style>\n",
       "<table border=\"1\" class=\"dataframe\">\n",
       "  <thead>\n",
       "    <tr style=\"text-align: right;\">\n",
       "      <th></th>\n",
       "      <th>Identifier</th>\n",
       "      <th>Date</th>\n",
       "      <th>Time</th>\n",
       "      <th>Open</th>\n",
       "      <th>High</th>\n",
       "      <th>Low</th>\n",
       "      <th>Close</th>\n",
       "      <th>Volume</th>\n",
       "    </tr>\n",
       "  </thead>\n",
       "  <tbody>\n",
       "    <tr>\n",
       "      <th>0</th>\n",
       "      <td>BANKNIFTY</td>\n",
       "      <td>2016/01/01</td>\n",
       "      <td>09:17</td>\n",
       "      <td>16912.60</td>\n",
       "      <td>16913.80</td>\n",
       "      <td>16899.00</td>\n",
       "      <td>16908.40</td>\n",
       "      <td>42</td>\n",
       "    </tr>\n",
       "    <tr>\n",
       "      <th>1</th>\n",
       "      <td>BANKNIFTY_F1</td>\n",
       "      <td>2016/01/01</td>\n",
       "      <td>09:17</td>\n",
       "      <td>16938.00</td>\n",
       "      <td>16940.00</td>\n",
       "      <td>16925.90</td>\n",
       "      <td>16934.80</td>\n",
       "      <td>13050</td>\n",
       "    </tr>\n",
       "    <tr>\n",
       "      <th>2</th>\n",
       "      <td>INDIAVIX</td>\n",
       "      <td>2016/01/01</td>\n",
       "      <td>09:17</td>\n",
       "      <td>13.95</td>\n",
       "      <td>14.04</td>\n",
       "      <td>13.93</td>\n",
       "      <td>14.00</td>\n",
       "      <td>37</td>\n",
       "    </tr>\n",
       "    <tr>\n",
       "      <th>3</th>\n",
       "      <td>NIFTY</td>\n",
       "      <td>2016/01/01</td>\n",
       "      <td>09:17</td>\n",
       "      <td>7928.65</td>\n",
       "      <td>7929.65</td>\n",
       "      <td>7926.30</td>\n",
       "      <td>7926.45</td>\n",
       "      <td>43200</td>\n",
       "    </tr>\n",
       "    <tr>\n",
       "      <th>4</th>\n",
       "      <td>NIFTY_F1</td>\n",
       "      <td>2016/01/01</td>\n",
       "      <td>09:17</td>\n",
       "      <td>7938.00</td>\n",
       "      <td>7938.10</td>\n",
       "      <td>7932.55</td>\n",
       "      <td>7933.25</td>\n",
       "      <td>43200</td>\n",
       "    </tr>\n",
       "  </tbody>\n",
       "</table>\n",
       "</div>"
      ],
      "text/plain": [
       "     Identifier        Date   Time      Open      High       Low     Close  \\\n",
       "0     BANKNIFTY  2016/01/01  09:17  16912.60  16913.80  16899.00  16908.40   \n",
       "1  BANKNIFTY_F1  2016/01/01  09:17  16938.00  16940.00  16925.90  16934.80   \n",
       "2      INDIAVIX  2016/01/01  09:17     13.95     14.04     13.93     14.00   \n",
       "3         NIFTY  2016/01/01  09:17   7928.65   7929.65   7926.30   7926.45   \n",
       "4      NIFTY_F1  2016/01/01  09:17   7938.00   7938.10   7932.55   7933.25   \n",
       "\n",
       "   Volume  \n",
       "0      42  \n",
       "1   13050  \n",
       "2      37  \n",
       "3   43200  \n",
       "4   43200  "
      ]
     },
     "execution_count": 5,
     "metadata": {},
     "output_type": "execute_result"
    }
   ],
   "source": [
    "df.head()"
   ]
  },
  {
   "cell_type": "code",
   "execution_count": 6,
   "id": "05319a07",
   "metadata": {},
   "outputs": [
    {
     "data": {
      "text/html": [
       "<div>\n",
       "<style scoped>\n",
       "    .dataframe tbody tr th:only-of-type {\n",
       "        vertical-align: middle;\n",
       "    }\n",
       "\n",
       "    .dataframe tbody tr th {\n",
       "        vertical-align: top;\n",
       "    }\n",
       "\n",
       "    .dataframe thead th {\n",
       "        text-align: right;\n",
       "    }\n",
       "</style>\n",
       "<table border=\"1\" class=\"dataframe\">\n",
       "  <thead>\n",
       "    <tr style=\"text-align: right;\">\n",
       "      <th></th>\n",
       "      <th>Identifier</th>\n",
       "      <th>Date</th>\n",
       "      <th>Time</th>\n",
       "      <th>Open</th>\n",
       "      <th>High</th>\n",
       "      <th>Low</th>\n",
       "      <th>Close</th>\n",
       "      <th>Volume</th>\n",
       "    </tr>\n",
       "  </thead>\n",
       "  <tbody>\n",
       "    <tr>\n",
       "      <th>2319690</th>\n",
       "      <td>BANKNIFTY</td>\n",
       "      <td>2020/12/31</td>\n",
       "      <td>15:32</td>\n",
       "      <td>31264.10</td>\n",
       "      <td>31264.10</td>\n",
       "      <td>31264.10</td>\n",
       "      <td>31264.10</td>\n",
       "      <td>0</td>\n",
       "    </tr>\n",
       "    <tr>\n",
       "      <th>2319691</th>\n",
       "      <td>NIFTY</td>\n",
       "      <td>2020/12/31</td>\n",
       "      <td>15:32</td>\n",
       "      <td>13981.80</td>\n",
       "      <td>13981.80</td>\n",
       "      <td>13981.80</td>\n",
       "      <td>13981.80</td>\n",
       "      <td>0</td>\n",
       "    </tr>\n",
       "    <tr>\n",
       "      <th>2319692</th>\n",
       "      <td>INDIAVIX</td>\n",
       "      <td>2020/12/31</td>\n",
       "      <td>15:33</td>\n",
       "      <td>21.09</td>\n",
       "      <td>21.09</td>\n",
       "      <td>21.09</td>\n",
       "      <td>21.09</td>\n",
       "      <td>0</td>\n",
       "    </tr>\n",
       "    <tr>\n",
       "      <th>2319693</th>\n",
       "      <td>BANKNIFTY_F1</td>\n",
       "      <td>2020/12/31</td>\n",
       "      <td>18:49</td>\n",
       "      <td>31264.10</td>\n",
       "      <td>31264.10</td>\n",
       "      <td>31264.10</td>\n",
       "      <td>31264.10</td>\n",
       "      <td>1</td>\n",
       "    </tr>\n",
       "    <tr>\n",
       "      <th>2319694</th>\n",
       "      <td>NIFTY_F1</td>\n",
       "      <td>2020/12/31</td>\n",
       "      <td>18:49</td>\n",
       "      <td>13981.80</td>\n",
       "      <td>13981.80</td>\n",
       "      <td>13981.80</td>\n",
       "      <td>13981.80</td>\n",
       "      <td>1</td>\n",
       "    </tr>\n",
       "  </tbody>\n",
       "</table>\n",
       "</div>"
      ],
      "text/plain": [
       "           Identifier        Date   Time      Open      High       Low  \\\n",
       "2319690     BANKNIFTY  2020/12/31  15:32  31264.10  31264.10  31264.10   \n",
       "2319691         NIFTY  2020/12/31  15:32  13981.80  13981.80  13981.80   \n",
       "2319692      INDIAVIX  2020/12/31  15:33     21.09     21.09     21.09   \n",
       "2319693  BANKNIFTY_F1  2020/12/31  18:49  31264.10  31264.10  31264.10   \n",
       "2319694      NIFTY_F1  2020/12/31  18:49  13981.80  13981.80  13981.80   \n",
       "\n",
       "            Close  Volume  \n",
       "2319690  31264.10       0  \n",
       "2319691  13981.80       0  \n",
       "2319692     21.09       0  \n",
       "2319693  31264.10       1  \n",
       "2319694  13981.80       1  "
      ]
     },
     "execution_count": 6,
     "metadata": {},
     "output_type": "execute_result"
    }
   ],
   "source": [
    "df.tail()"
   ]
  },
  {
   "cell_type": "code",
   "execution_count": 7,
   "id": "50dbf7e6",
   "metadata": {},
   "outputs": [
    {
     "data": {
      "text/html": [
       "<div>\n",
       "<style scoped>\n",
       "    .dataframe tbody tr th:only-of-type {\n",
       "        vertical-align: middle;\n",
       "    }\n",
       "\n",
       "    .dataframe tbody tr th {\n",
       "        vertical-align: top;\n",
       "    }\n",
       "\n",
       "    .dataframe thead th {\n",
       "        text-align: right;\n",
       "    }\n",
       "</style>\n",
       "<table border=\"1\" class=\"dataframe\">\n",
       "  <thead>\n",
       "    <tr style=\"text-align: right;\">\n",
       "      <th></th>\n",
       "      <th>Identifier</th>\n",
       "      <th>Date</th>\n",
       "      <th>Time</th>\n",
       "      <th>Open</th>\n",
       "      <th>High</th>\n",
       "      <th>Low</th>\n",
       "      <th>Close</th>\n",
       "      <th>Volume</th>\n",
       "    </tr>\n",
       "  </thead>\n",
       "  <tbody>\n",
       "    <tr>\n",
       "      <th>0</th>\n",
       "      <td>BANKNIFTY</td>\n",
       "      <td>2016/01/01</td>\n",
       "      <td>09:17</td>\n",
       "      <td>16912.60</td>\n",
       "      <td>16913.80</td>\n",
       "      <td>16899.00</td>\n",
       "      <td>16908.40</td>\n",
       "      <td>42</td>\n",
       "    </tr>\n",
       "    <tr>\n",
       "      <th>1</th>\n",
       "      <td>BANKNIFTY_F1</td>\n",
       "      <td>2016/01/01</td>\n",
       "      <td>09:17</td>\n",
       "      <td>16938.00</td>\n",
       "      <td>16940.00</td>\n",
       "      <td>16925.90</td>\n",
       "      <td>16934.80</td>\n",
       "      <td>13050</td>\n",
       "    </tr>\n",
       "    <tr>\n",
       "      <th>2</th>\n",
       "      <td>INDIAVIX</td>\n",
       "      <td>2016/01/01</td>\n",
       "      <td>09:17</td>\n",
       "      <td>13.95</td>\n",
       "      <td>14.04</td>\n",
       "      <td>13.93</td>\n",
       "      <td>14.00</td>\n",
       "      <td>37</td>\n",
       "    </tr>\n",
       "    <tr>\n",
       "      <th>3</th>\n",
       "      <td>NIFTY</td>\n",
       "      <td>2016/01/01</td>\n",
       "      <td>09:17</td>\n",
       "      <td>7928.65</td>\n",
       "      <td>7929.65</td>\n",
       "      <td>7926.30</td>\n",
       "      <td>7926.45</td>\n",
       "      <td>43200</td>\n",
       "    </tr>\n",
       "    <tr>\n",
       "      <th>4</th>\n",
       "      <td>NIFTY_F1</td>\n",
       "      <td>2016/01/01</td>\n",
       "      <td>09:17</td>\n",
       "      <td>7938.00</td>\n",
       "      <td>7938.10</td>\n",
       "      <td>7932.55</td>\n",
       "      <td>7933.25</td>\n",
       "      <td>43200</td>\n",
       "    </tr>\n",
       "  </tbody>\n",
       "</table>\n",
       "</div>"
      ],
      "text/plain": [
       "     Identifier        Date   Time      Open      High       Low     Close  \\\n",
       "0     BANKNIFTY  2016/01/01  09:17  16912.60  16913.80  16899.00  16908.40   \n",
       "1  BANKNIFTY_F1  2016/01/01  09:17  16938.00  16940.00  16925.90  16934.80   \n",
       "2      INDIAVIX  2016/01/01  09:17     13.95     14.04     13.93     14.00   \n",
       "3         NIFTY  2016/01/01  09:17   7928.65   7929.65   7926.30   7926.45   \n",
       "4      NIFTY_F1  2016/01/01  09:17   7938.00   7938.10   7932.55   7933.25   \n",
       "\n",
       "   Volume  \n",
       "0      42  \n",
       "1   13050  \n",
       "2      37  \n",
       "3   43200  \n",
       "4   43200  "
      ]
     },
     "execution_count": 7,
     "metadata": {},
     "output_type": "execute_result"
    }
   ],
   "source": [
    "df.head()"
   ]
  },
  {
   "cell_type": "code",
   "execution_count": 8,
   "id": "20821e86",
   "metadata": {},
   "outputs": [
    {
     "data": {
      "text/plain": [
       "2319695"
      ]
     },
     "execution_count": 8,
     "metadata": {},
     "output_type": "execute_result"
    }
   ],
   "source": [
    "len(df)"
   ]
  },
  {
   "cell_type": "code",
   "execution_count": 12,
   "id": "eb6dbe2f",
   "metadata": {},
   "outputs": [
    {
     "name": "stdout",
     "output_type": "stream",
     "text": [
      "           Identifier       Date   Time      Open      High       Low  \\\n",
      "0           BANKNIFTY 2016-01-01  09:17  16912.60  16913.80  16899.00   \n",
      "1        BANKNIFTY_F1 2016-01-01  09:17  16938.00  16940.00  16925.90   \n",
      "2            INDIAVIX 2016-01-01  09:17     13.95     14.04     13.93   \n",
      "3               NIFTY 2016-01-01  09:17   7928.65   7929.65   7926.30   \n",
      "4            NIFTY_F1 2016-01-01  09:17   7938.00   7938.10   7932.55   \n",
      "...               ...        ...    ...       ...       ...       ...   \n",
      "2319690     BANKNIFTY 2020-12-31  15:32  31264.10  31264.10  31264.10   \n",
      "2319691         NIFTY 2020-12-31  15:32  13981.80  13981.80  13981.80   \n",
      "2319692      INDIAVIX 2020-12-31  15:33     21.09     21.09     21.09   \n",
      "2319693  BANKNIFTY_F1 2020-12-31  18:49  31264.10  31264.10  31264.10   \n",
      "2319694      NIFTY_F1 2020-12-31  18:49  13981.80  13981.80  13981.80   \n",
      "\n",
      "            Close  Volume  year  month  day  \n",
      "0        16908.40      42  2016      1    1  \n",
      "1        16934.80   13050  2016      1    1  \n",
      "2           14.00      37  2016      1    1  \n",
      "3         7926.45   43200  2016      1    1  \n",
      "4         7933.25   43200  2016      1    1  \n",
      "...           ...     ...   ...    ...  ...  \n",
      "2319690  31264.10       0  2020     12   31  \n",
      "2319691  13981.80       0  2020     12   31  \n",
      "2319692     21.09       0  2020     12   31  \n",
      "2319693  31264.10       1  2020     12   31  \n",
      "2319694  13981.80       1  2020     12   31  \n",
      "\n",
      "[2319695 rows x 11 columns]\n"
     ]
    }
   ],
   "source": [
    "from datetime import datetime\n",
    "df['Date'] = pd.to_datetime(df['Date'])\n",
    "df['year'] = df['Date'].dt.year\n",
    "df['month']=df['Date'].dt.month\n",
    "df['day']=df['Date'].dt.day\n",
    "\n",
    "print(df)"
   ]
  },
  {
   "cell_type": "code",
   "execution_count": null,
   "id": "ad4e0eb3",
   "metadata": {},
   "outputs": [],
   "source": [
    "from datetime import datetime\n",
    "df['created_at']=df[['Date','Time']].apply(lambda x:datetime.strptime(f\"{x[0]} {x[1]}\", \"%Y/%m/%d %H:%M\"),axis=1)\n",
    "df['day']=pd.DatetimeIndex(df['created_at']).day\n",
    "df['month']=pd.DatetimeIndex(df['created_at']).month\n",
    "df['year']=pd.DatetimeIndex(df['created_at']).year"
   ]
  },
  {
   "cell_type": "code",
   "execution_count": 13,
   "id": "bf01efab",
   "metadata": {},
   "outputs": [
    {
     "data": {
      "text/html": [
       "<div>\n",
       "<style scoped>\n",
       "    .dataframe tbody tr th:only-of-type {\n",
       "        vertical-align: middle;\n",
       "    }\n",
       "\n",
       "    .dataframe tbody tr th {\n",
       "        vertical-align: top;\n",
       "    }\n",
       "\n",
       "    .dataframe thead th {\n",
       "        text-align: right;\n",
       "    }\n",
       "</style>\n",
       "<table border=\"1\" class=\"dataframe\">\n",
       "  <thead>\n",
       "    <tr style=\"text-align: right;\">\n",
       "      <th></th>\n",
       "      <th>Identifier</th>\n",
       "      <th>Date</th>\n",
       "      <th>Time</th>\n",
       "      <th>Open</th>\n",
       "      <th>High</th>\n",
       "      <th>Low</th>\n",
       "      <th>Close</th>\n",
       "      <th>Volume</th>\n",
       "      <th>year</th>\n",
       "      <th>month</th>\n",
       "      <th>day</th>\n",
       "    </tr>\n",
       "  </thead>\n",
       "  <tbody>\n",
       "    <tr>\n",
       "      <th>0</th>\n",
       "      <td>BANKNIFTY</td>\n",
       "      <td>2016-01-01</td>\n",
       "      <td>09:17</td>\n",
       "      <td>16912.60</td>\n",
       "      <td>16913.80</td>\n",
       "      <td>16899.00</td>\n",
       "      <td>16908.40</td>\n",
       "      <td>42</td>\n",
       "      <td>2016</td>\n",
       "      <td>1</td>\n",
       "      <td>1</td>\n",
       "    </tr>\n",
       "    <tr>\n",
       "      <th>1</th>\n",
       "      <td>BANKNIFTY_F1</td>\n",
       "      <td>2016-01-01</td>\n",
       "      <td>09:17</td>\n",
       "      <td>16938.00</td>\n",
       "      <td>16940.00</td>\n",
       "      <td>16925.90</td>\n",
       "      <td>16934.80</td>\n",
       "      <td>13050</td>\n",
       "      <td>2016</td>\n",
       "      <td>1</td>\n",
       "      <td>1</td>\n",
       "    </tr>\n",
       "    <tr>\n",
       "      <th>2</th>\n",
       "      <td>INDIAVIX</td>\n",
       "      <td>2016-01-01</td>\n",
       "      <td>09:17</td>\n",
       "      <td>13.95</td>\n",
       "      <td>14.04</td>\n",
       "      <td>13.93</td>\n",
       "      <td>14.00</td>\n",
       "      <td>37</td>\n",
       "      <td>2016</td>\n",
       "      <td>1</td>\n",
       "      <td>1</td>\n",
       "    </tr>\n",
       "    <tr>\n",
       "      <th>3</th>\n",
       "      <td>NIFTY</td>\n",
       "      <td>2016-01-01</td>\n",
       "      <td>09:17</td>\n",
       "      <td>7928.65</td>\n",
       "      <td>7929.65</td>\n",
       "      <td>7926.30</td>\n",
       "      <td>7926.45</td>\n",
       "      <td>43200</td>\n",
       "      <td>2016</td>\n",
       "      <td>1</td>\n",
       "      <td>1</td>\n",
       "    </tr>\n",
       "    <tr>\n",
       "      <th>4</th>\n",
       "      <td>NIFTY_F1</td>\n",
       "      <td>2016-01-01</td>\n",
       "      <td>09:17</td>\n",
       "      <td>7938.00</td>\n",
       "      <td>7938.10</td>\n",
       "      <td>7932.55</td>\n",
       "      <td>7933.25</td>\n",
       "      <td>43200</td>\n",
       "      <td>2016</td>\n",
       "      <td>1</td>\n",
       "      <td>1</td>\n",
       "    </tr>\n",
       "  </tbody>\n",
       "</table>\n",
       "</div>"
      ],
      "text/plain": [
       "     Identifier       Date   Time      Open      High       Low     Close  \\\n",
       "0     BANKNIFTY 2016-01-01  09:17  16912.60  16913.80  16899.00  16908.40   \n",
       "1  BANKNIFTY_F1 2016-01-01  09:17  16938.00  16940.00  16925.90  16934.80   \n",
       "2      INDIAVIX 2016-01-01  09:17     13.95     14.04     13.93     14.00   \n",
       "3         NIFTY 2016-01-01  09:17   7928.65   7929.65   7926.30   7926.45   \n",
       "4      NIFTY_F1 2016-01-01  09:17   7938.00   7938.10   7932.55   7933.25   \n",
       "\n",
       "   Volume  year  month  day  \n",
       "0      42  2016      1    1  \n",
       "1   13050  2016      1    1  \n",
       "2      37  2016      1    1  \n",
       "3   43200  2016      1    1  \n",
       "4   43200  2016      1    1  "
      ]
     },
     "execution_count": 13,
     "metadata": {},
     "output_type": "execute_result"
    }
   ],
   "source": [
    "df.head()"
   ]
  },
  {
   "cell_type": "code",
   "execution_count": 14,
   "id": "048fa431",
   "metadata": {},
   "outputs": [
    {
     "data": {
      "text/plain": [
       "(                                Date          Open          High  \\\n",
       " count                        2319695  2.319695e+06  2.319695e+06   \n",
       " mean   2018-07-04 01:33:46.645917952  1.374949e+04  1.375366e+04   \n",
       " min              2016-01-01 00:00:00  2.300000e+00  1.005750e+01   \n",
       " 25%              2017-04-05 00:00:00  8.226750e+03  8.228800e+03   \n",
       " 50%              2018-07-02 00:00:00  1.132000e+04  1.132280e+04   \n",
       " 75%              2019-10-07 00:00:00  2.280990e+04  2.281630e+04   \n",
       " max              2020-12-31 00:00:00  3.276860e+04  3.277390e+04   \n",
       " std                              NaN  9.763408e+03  9.766586e+03   \n",
       " \n",
       "                 Low         Close        Volume          year         month  \\\n",
       " count  2.319695e+06  2.319695e+06  2.319695e+06  2.319695e+06  2.319695e+06   \n",
       " mean   1.374532e+04  1.374947e+04  8.809004e+03  2.018008e+03  6.495172e+00   \n",
       " min    2.300000e+00  9.867500e+00  0.000000e+00  2.016000e+03  1.000000e+00   \n",
       " 25%    8.224950e+03  8.226650e+03  0.000000e+00  2.017000e+03  3.000000e+00   \n",
       " 50%    1.131770e+04  1.132000e+04  5.700000e+01  2.018000e+03  7.000000e+00   \n",
       " 75%    2.280320e+04  2.280990e+04  8.840000e+03  2.019000e+03  9.000000e+00   \n",
       " max    3.275610e+04  3.276880e+04  1.664025e+06  2.020000e+03  1.200000e+01   \n",
       " std    9.760215e+03  9.763395e+03  2.222699e+04  1.417151e+00  3.454366e+00   \n",
       " \n",
       "                 day  \n",
       " count  2.319695e+06  \n",
       " mean   1.578527e+01  \n",
       " min    1.000000e+00  \n",
       " 25%    8.000000e+00  \n",
       " 50%    1.600000e+01  \n",
       " 75%    2.300000e+01  \n",
       " max    3.100000e+01  \n",
       " std    8.798912e+00  ,\n",
       " Identifier    0\n",
       " Date          0\n",
       " Time          0\n",
       " Open          0\n",
       " High          0\n",
       " Low           0\n",
       " Close         0\n",
       " Volume        0\n",
       " year          0\n",
       " month         0\n",
       " day           0\n",
       " dtype: int64)"
      ]
     },
     "execution_count": 14,
     "metadata": {},
     "output_type": "execute_result"
    }
   ],
   "source": [
    "summary=df.describe()\n",
    "missing_values=df.isnull().sum()\n",
    "summary, missing_values"
   ]
  },
  {
   "cell_type": "code",
   "execution_count": 15,
   "id": "98be8b07",
   "metadata": {},
   "outputs": [
    {
     "data": {
      "text/html": [
       "<div>\n",
       "<style scoped>\n",
       "    .dataframe tbody tr th:only-of-type {\n",
       "        vertical-align: middle;\n",
       "    }\n",
       "\n",
       "    .dataframe tbody tr th {\n",
       "        vertical-align: top;\n",
       "    }\n",
       "\n",
       "    .dataframe thead th {\n",
       "        text-align: right;\n",
       "    }\n",
       "</style>\n",
       "<table border=\"1\" class=\"dataframe\">\n",
       "  <thead>\n",
       "    <tr style=\"text-align: right;\">\n",
       "      <th></th>\n",
       "      <th>Identifier</th>\n",
       "      <th>Date</th>\n",
       "      <th>Time</th>\n",
       "      <th>Open</th>\n",
       "      <th>High</th>\n",
       "      <th>Low</th>\n",
       "      <th>Close</th>\n",
       "      <th>Volume</th>\n",
       "      <th>year</th>\n",
       "      <th>month</th>\n",
       "      <th>day</th>\n",
       "    </tr>\n",
       "  </thead>\n",
       "  <tbody>\n",
       "    <tr>\n",
       "      <th>0</th>\n",
       "      <td>BANKNIFTY</td>\n",
       "      <td>2016-01-01</td>\n",
       "      <td>09:17</td>\n",
       "      <td>16912.6</td>\n",
       "      <td>16913.8</td>\n",
       "      <td>16899.0</td>\n",
       "      <td>16908.4</td>\n",
       "      <td>42</td>\n",
       "      <td>2016</td>\n",
       "      <td>1</td>\n",
       "      <td>1</td>\n",
       "    </tr>\n",
       "  </tbody>\n",
       "</table>\n",
       "</div>"
      ],
      "text/plain": [
       "  Identifier       Date   Time     Open     High      Low    Close  Volume  \\\n",
       "0  BANKNIFTY 2016-01-01  09:17  16912.6  16913.8  16899.0  16908.4      42   \n",
       "\n",
       "   year  month  day  \n",
       "0  2016      1    1  "
      ]
     },
     "execution_count": 15,
     "metadata": {},
     "output_type": "execute_result"
    }
   ],
   "source": [
    "df.head(1)"
   ]
  },
  {
   "cell_type": "code",
   "execution_count": 16,
   "id": "391d057b",
   "metadata": {},
   "outputs": [
    {
     "name": "stdout",
     "output_type": "stream",
     "text": [
      "<class 'pandas.core.frame.DataFrame'>\n",
      "RangeIndex: 2319695 entries, 0 to 2319694\n",
      "Data columns (total 11 columns):\n",
      " #   Column      Dtype         \n",
      "---  ------      -----         \n",
      " 0   Identifier  object        \n",
      " 1   Date        datetime64[ns]\n",
      " 2   Time        object        \n",
      " 3   Open        float64       \n",
      " 4   High        float64       \n",
      " 5   Low         float64       \n",
      " 6   Close       float64       \n",
      " 7   Volume      int64         \n",
      " 8   year        int32         \n",
      " 9   month       int32         \n",
      " 10  day         int32         \n",
      "dtypes: datetime64[ns](1), float64(4), int32(3), int64(1), object(2)\n",
      "memory usage: 168.1+ MB\n"
     ]
    }
   ],
   "source": [
    "df.info()"
   ]
  },
  {
   "cell_type": "code",
   "execution_count": 19,
   "id": "098b6e88",
   "metadata": {},
   "outputs": [
    {
     "data": {
      "text/html": [
       "<div>\n",
       "<style scoped>\n",
       "    .dataframe tbody tr th:only-of-type {\n",
       "        vertical-align: middle;\n",
       "    }\n",
       "\n",
       "    .dataframe tbody tr th {\n",
       "        vertical-align: top;\n",
       "    }\n",
       "\n",
       "    .dataframe thead th {\n",
       "        text-align: right;\n",
       "    }\n",
       "</style>\n",
       "<table border=\"1\" class=\"dataframe\">\n",
       "  <thead>\n",
       "    <tr style=\"text-align: right;\">\n",
       "      <th></th>\n",
       "      <th>Identifier</th>\n",
       "      <th>Date</th>\n",
       "      <th>Time</th>\n",
       "      <th>Open</th>\n",
       "      <th>High</th>\n",
       "      <th>Low</th>\n",
       "      <th>Close</th>\n",
       "      <th>Volume</th>\n",
       "      <th>year</th>\n",
       "      <th>month</th>\n",
       "      <th>day</th>\n",
       "      <th>BANKNIFTY_F1</th>\n",
       "      <th>INDIAVIX</th>\n",
       "      <th>NIFTY</th>\n",
       "      <th>NIFTY_F1</th>\n",
       "      <th>BANKNIFTY_F1</th>\n",
       "      <th>INDIAVIX</th>\n",
       "      <th>NIFTY</th>\n",
       "      <th>NIFTY_F1</th>\n",
       "    </tr>\n",
       "  </thead>\n",
       "  <tbody>\n",
       "    <tr>\n",
       "      <th>0</th>\n",
       "      <td>BANKNIFTY</td>\n",
       "      <td>2016-01-01</td>\n",
       "      <td>09:17</td>\n",
       "      <td>16912.60</td>\n",
       "      <td>16913.80</td>\n",
       "      <td>16899.00</td>\n",
       "      <td>16908.40</td>\n",
       "      <td>42</td>\n",
       "      <td>2016</td>\n",
       "      <td>1</td>\n",
       "      <td>1</td>\n",
       "      <td>False</td>\n",
       "      <td>False</td>\n",
       "      <td>False</td>\n",
       "      <td>False</td>\n",
       "      <td>False</td>\n",
       "      <td>False</td>\n",
       "      <td>False</td>\n",
       "      <td>False</td>\n",
       "    </tr>\n",
       "    <tr>\n",
       "      <th>1</th>\n",
       "      <td>BANKNIFTY_F1</td>\n",
       "      <td>2016-01-01</td>\n",
       "      <td>09:17</td>\n",
       "      <td>16938.00</td>\n",
       "      <td>16940.00</td>\n",
       "      <td>16925.90</td>\n",
       "      <td>16934.80</td>\n",
       "      <td>13050</td>\n",
       "      <td>2016</td>\n",
       "      <td>1</td>\n",
       "      <td>1</td>\n",
       "      <td>True</td>\n",
       "      <td>False</td>\n",
       "      <td>False</td>\n",
       "      <td>False</td>\n",
       "      <td>True</td>\n",
       "      <td>False</td>\n",
       "      <td>False</td>\n",
       "      <td>False</td>\n",
       "    </tr>\n",
       "    <tr>\n",
       "      <th>2</th>\n",
       "      <td>INDIAVIX</td>\n",
       "      <td>2016-01-01</td>\n",
       "      <td>09:17</td>\n",
       "      <td>13.95</td>\n",
       "      <td>14.04</td>\n",
       "      <td>13.93</td>\n",
       "      <td>14.00</td>\n",
       "      <td>37</td>\n",
       "      <td>2016</td>\n",
       "      <td>1</td>\n",
       "      <td>1</td>\n",
       "      <td>False</td>\n",
       "      <td>True</td>\n",
       "      <td>False</td>\n",
       "      <td>False</td>\n",
       "      <td>False</td>\n",
       "      <td>True</td>\n",
       "      <td>False</td>\n",
       "      <td>False</td>\n",
       "    </tr>\n",
       "    <tr>\n",
       "      <th>3</th>\n",
       "      <td>NIFTY</td>\n",
       "      <td>2016-01-01</td>\n",
       "      <td>09:17</td>\n",
       "      <td>7928.65</td>\n",
       "      <td>7929.65</td>\n",
       "      <td>7926.30</td>\n",
       "      <td>7926.45</td>\n",
       "      <td>43200</td>\n",
       "      <td>2016</td>\n",
       "      <td>1</td>\n",
       "      <td>1</td>\n",
       "      <td>False</td>\n",
       "      <td>False</td>\n",
       "      <td>True</td>\n",
       "      <td>False</td>\n",
       "      <td>False</td>\n",
       "      <td>False</td>\n",
       "      <td>True</td>\n",
       "      <td>False</td>\n",
       "    </tr>\n",
       "    <tr>\n",
       "      <th>4</th>\n",
       "      <td>NIFTY_F1</td>\n",
       "      <td>2016-01-01</td>\n",
       "      <td>09:17</td>\n",
       "      <td>7938.00</td>\n",
       "      <td>7938.10</td>\n",
       "      <td>7932.55</td>\n",
       "      <td>7933.25</td>\n",
       "      <td>43200</td>\n",
       "      <td>2016</td>\n",
       "      <td>1</td>\n",
       "      <td>1</td>\n",
       "      <td>False</td>\n",
       "      <td>False</td>\n",
       "      <td>False</td>\n",
       "      <td>True</td>\n",
       "      <td>False</td>\n",
       "      <td>False</td>\n",
       "      <td>False</td>\n",
       "      <td>True</td>\n",
       "    </tr>\n",
       "  </tbody>\n",
       "</table>\n",
       "</div>"
      ],
      "text/plain": [
       "     Identifier       Date   Time      Open      High       Low     Close  \\\n",
       "0     BANKNIFTY 2016-01-01  09:17  16912.60  16913.80  16899.00  16908.40   \n",
       "1  BANKNIFTY_F1 2016-01-01  09:17  16938.00  16940.00  16925.90  16934.80   \n",
       "2      INDIAVIX 2016-01-01  09:17     13.95     14.04     13.93     14.00   \n",
       "3         NIFTY 2016-01-01  09:17   7928.65   7929.65   7926.30   7926.45   \n",
       "4      NIFTY_F1 2016-01-01  09:17   7938.00   7938.10   7932.55   7933.25   \n",
       "\n",
       "   Volume  year  month  day  BANKNIFTY_F1  INDIAVIX  NIFTY  NIFTY_F1  \\\n",
       "0      42  2016      1    1         False     False  False     False   \n",
       "1   13050  2016      1    1          True     False  False     False   \n",
       "2      37  2016      1    1         False      True  False     False   \n",
       "3   43200  2016      1    1         False     False   True     False   \n",
       "4   43200  2016      1    1         False     False  False      True   \n",
       "\n",
       "   BANKNIFTY_F1  INDIAVIX  NIFTY  NIFTY_F1  \n",
       "0         False     False  False     False  \n",
       "1          True     False  False     False  \n",
       "2         False      True  False     False  \n",
       "3         False     False   True     False  \n",
       "4         False     False  False      True  "
      ]
     },
     "execution_count": 19,
     "metadata": {},
     "output_type": "execute_result"
    }
   ],
   "source": [
    "Identifier =pd.get_dummies(df['Identifier'],drop_first=True)\n",
    "Identifier\n",
    "\n",
    "\n",
    "df=pd.concat([df,Identifier],axis=1)\n",
    "df.head()"
   ]
  },
  {
   "cell_type": "code",
   "execution_count": 20,
   "id": "e94838d0",
   "metadata": {},
   "outputs": [],
   "source": [
    "from sklearn.model_selection import train_test_split\n",
    "x=df[['Open','Volume','day','month','year','BANKNIFTY_F1','INDIAVIX','NIFTY','NIFTY_F1']]\n",
    "y=df[['Close','High','Low']]"
   ]
  },
  {
   "cell_type": "code",
   "execution_count": 21,
   "id": "0bc02dff",
   "metadata": {},
   "outputs": [
    {
     "name": "stdout",
     "output_type": "stream",
     "text": [
      "<class 'pandas.core.frame.DataFrame'>\n",
      "RangeIndex: 2319695 entries, 0 to 2319694\n",
      "Data columns (total 13 columns):\n",
      " #   Column        Dtype  \n",
      "---  ------        -----  \n",
      " 0   Open          float64\n",
      " 1   Volume        int64  \n",
      " 2   day           int32  \n",
      " 3   month         int32  \n",
      " 4   year          int32  \n",
      " 5   BANKNIFTY_F1  bool   \n",
      " 6   BANKNIFTY_F1  bool   \n",
      " 7   INDIAVIX      bool   \n",
      " 8   INDIAVIX      bool   \n",
      " 9   NIFTY         bool   \n",
      " 10  NIFTY         bool   \n",
      " 11  NIFTY_F1      bool   \n",
      " 12  NIFTY_F1      bool   \n",
      "dtypes: bool(8), float64(1), int32(3), int64(1)\n",
      "memory usage: 79.6 MB\n"
     ]
    }
   ],
   "source": [
    "x.info()"
   ]
  },
  {
   "cell_type": "code",
   "execution_count": 22,
   "id": "5c3becdc",
   "metadata": {},
   "outputs": [
    {
     "data": {
      "text/plain": [
       "(1623786, 13)"
      ]
     },
     "execution_count": 22,
     "metadata": {},
     "output_type": "execute_result"
    }
   ],
   "source": [
    "#split the data into training set and test set\n",
    "x_train, x_test, y_train, y_test =train_test_split(x,y, test_size=0.3,random_state=34)\n",
    "x_train.shape"
   ]
  },
  {
   "cell_type": "code",
   "execution_count": 23,
   "id": "a290f055",
   "metadata": {},
   "outputs": [
    {
     "data": {
      "text/plain": [
       "LinearRegression()"
      ]
     },
     "execution_count": 23,
     "metadata": {},
     "output_type": "execute_result"
    }
   ],
   "source": [
    "from sklearn.linear_model import LinearRegression\n",
    "\n",
    "model=LinearRegression()   #Creating a linear regression object\n",
    "model.fit(x_train,y_train)  #Training the model"
   ]
  },
  {
   "cell_type": "code",
   "execution_count": 24,
   "id": "707ecfa7",
   "metadata": {},
   "outputs": [
    {
     "data": {
      "text/plain": [
       "array([[12844.79774943, 12849.1781032 , 12840.42255594],\n",
       "       [24236.81554728, 24244.17650515, 24229.46478285],\n",
       "       [11613.99218296, 11616.18405931, 11611.8167046 ],\n",
       "       ...,\n",
       "       [32549.9530452 , 32557.62242822, 32542.28566254],\n",
       "       [ 8855.17380276,  8855.08201026,  8855.31401741],\n",
       "       [26720.50135858, 26729.05618438, 26712.0233538 ]])"
      ]
     },
     "execution_count": 24,
     "metadata": {},
     "output_type": "execute_result"
    }
   ],
   "source": [
    "from sklearn.metrics import mean_squared_error, r2_score\n",
    "#Make predictions\n",
    "y_pred=model.predict(x_test)\n",
    "y_pred"
   ]
  },
  {
   "cell_type": "code",
   "execution_count": 25,
   "id": "cad1bca0",
   "metadata": {},
   "outputs": [
    {
     "data": {
      "text/html": [
       "<div>\n",
       "<style scoped>\n",
       "    .dataframe tbody tr th:only-of-type {\n",
       "        vertical-align: middle;\n",
       "    }\n",
       "\n",
       "    .dataframe tbody tr th {\n",
       "        vertical-align: top;\n",
       "    }\n",
       "\n",
       "    .dataframe thead th {\n",
       "        text-align: right;\n",
       "    }\n",
       "</style>\n",
       "<table border=\"1\" class=\"dataframe\">\n",
       "  <thead>\n",
       "    <tr style=\"text-align: right;\">\n",
       "      <th></th>\n",
       "      <th>Close</th>\n",
       "      <th>High</th>\n",
       "      <th>Low</th>\n",
       "    </tr>\n",
       "  </thead>\n",
       "  <tbody>\n",
       "    <tr>\n",
       "      <th>2267271</th>\n",
       "      <td>12836.00</td>\n",
       "      <td>12845.9</td>\n",
       "      <td>12836.00</td>\n",
       "    </tr>\n",
       "    <tr>\n",
       "      <th>837151</th>\n",
       "      <td>24237.80</td>\n",
       "      <td>24238.9</td>\n",
       "      <td>24231.40</td>\n",
       "    </tr>\n",
       "    <tr>\n",
       "      <th>1530772</th>\n",
       "      <td>11610.00</td>\n",
       "      <td>11614.8</td>\n",
       "      <td>11610.00</td>\n",
       "    </tr>\n",
       "    <tr>\n",
       "      <th>404545</th>\n",
       "      <td>19093.00</td>\n",
       "      <td>19094.0</td>\n",
       "      <td>19073.00</td>\n",
       "    </tr>\n",
       "    <tr>\n",
       "      <th>1578807</th>\n",
       "      <td>11952.50</td>\n",
       "      <td>11953.5</td>\n",
       "      <td>11950.00</td>\n",
       "    </tr>\n",
       "    <tr>\n",
       "      <th>...</th>\n",
       "      <td>...</td>\n",
       "      <td>...</td>\n",
       "      <td>...</td>\n",
       "    </tr>\n",
       "    <tr>\n",
       "      <th>1742726</th>\n",
       "      <td>28394.10</td>\n",
       "      <td>28398.3</td>\n",
       "      <td>28378.10</td>\n",
       "    </tr>\n",
       "    <tr>\n",
       "      <th>647521</th>\n",
       "      <td>9595.90</td>\n",
       "      <td>9599.1</td>\n",
       "      <td>9594.65</td>\n",
       "    </tr>\n",
       "    <tr>\n",
       "      <th>1843232</th>\n",
       "      <td>32541.10</td>\n",
       "      <td>32552.1</td>\n",
       "      <td>32540.10</td>\n",
       "    </tr>\n",
       "    <tr>\n",
       "      <th>336046</th>\n",
       "      <td>8854.15</td>\n",
       "      <td>8855.4</td>\n",
       "      <td>8853.65</td>\n",
       "    </tr>\n",
       "    <tr>\n",
       "      <th>1424181</th>\n",
       "      <td>26722.20</td>\n",
       "      <td>26723.7</td>\n",
       "      <td>26719.50</td>\n",
       "    </tr>\n",
       "  </tbody>\n",
       "</table>\n",
       "<p>695909 rows × 3 columns</p>\n",
       "</div>"
      ],
      "text/plain": [
       "            Close     High       Low\n",
       "2267271  12836.00  12845.9  12836.00\n",
       "837151   24237.80  24238.9  24231.40\n",
       "1530772  11610.00  11614.8  11610.00\n",
       "404545   19093.00  19094.0  19073.00\n",
       "1578807  11952.50  11953.5  11950.00\n",
       "...           ...      ...       ...\n",
       "1742726  28394.10  28398.3  28378.10\n",
       "647521    9595.90   9599.1   9594.65\n",
       "1843232  32541.10  32552.1  32540.10\n",
       "336046    8854.15   8855.4   8853.65\n",
       "1424181  26722.20  26723.7  26719.50\n",
       "\n",
       "[695909 rows x 3 columns]"
      ]
     },
     "execution_count": 25,
     "metadata": {},
     "output_type": "execute_result"
    }
   ],
   "source": [
    "y_test"
   ]
  },
  {
   "cell_type": "code",
   "execution_count": 26,
   "id": "cd15ad19",
   "metadata": {},
   "outputs": [
    {
     "data": {
      "text/plain": [
       "<matplotlib.collections.PathCollection at 0x14b1ffc5310>"
      ]
     },
     "execution_count": 26,
     "metadata": {},
     "output_type": "execute_result"
    },
    {
     "data": {
      "image/png": "[encoded data removed]",
      "text/plain": [
       "<Figure size 640x480 with 1 Axes>"
      ]
     },
     "metadata": {},
     "output_type": "display_data"
    }
   ],
   "source": [
    "plt.scatter(y_test,y_pred)"
   ]
  },
  {
   "cell_type": "code",
   "execution_count": 30,
   "id": "6c8303b5",
   "metadata": {},
   "outputs": [],
   "source": [
    "x=df[['Open','Volume','day','month','year','BANKNIFTY_F1','INDIAVIX','NIFTY','NIFTY_F1']]\n",
    "y=df[['Close','High','Low']]\n"
   ]
  },
  {
   "cell_type": "code",
   "execution_count": 35,
   "id": "74b04d8f",
   "metadata": {},
   "outputs": [
    {
     "data": {
      "text/plain": [
       "array([[22544.85741324, 22552.56693729, 22537.17898179]])"
      ]
     },
     "execution_count": 35,
     "metadata": {},
     "output_type": "execute_result"
    }
   ],
   "source": [
    "new_model"
   ]
  },
  {
   "cell_type": "code",
   "execution_count": 34,
   "id": "75e6b0e0",
   "metadata": {},
   "outputs": [],
   "source": [
    "new_model=model.predict([[22545,40000,10,4,2024,0,0,1,0,0,1,0,0]])"
   ]
  },
  {
   "cell_type": "code",
   "execution_count": null,
   "id": "46ba1a6b",
   "metadata": {},
   "outputs": [],
   "source": []
  },
  {
   "cell_type": "code",
   "execution_count": null,
   "id": "3f1c6b70",
   "metadata": {},
   "outputs": [],
   "source": []
  },
  {
   "cell_type": "code",
   "execution_count": null,
   "id": "bd6515b8",
   "metadata": {},
   "outputs": [],
   "source": []
  },
  {
   "cell_type": "code",
   "execution_count": null,
   "id": "4c86d791",
   "metadata": {},
   "outputs": [],
   "source": []
  },
  {
   "cell_type": "code",
   "execution_count": null,
   "id": "721abe3c",
   "metadata": {},
   "outputs": [],
   "source": []
  },
  {
   "cell_type": "code",
   "execution_count": null,
   "id": "ab633fbe",
   "metadata": {},
   "outputs": [],
   "source": []
  },
  {
   "cell_type": "code",
   "execution_count": null,
   "id": "5578a951",
   "metadata": {},
   "outputs": [],
   "source": []
  },
  {
   "cell_type": "code",
   "execution_count": null,
   "id": "3cd7c77f",
   "metadata": {},
   "outputs": [],
   "source": []
  },
  {
   "cell_type": "code",
   "execution_count": null,
   "id": "e64bcece",
   "metadata": {},
   "outputs": [],
   "source": []
  },
  {
   "cell_type": "code",
   "execution_count": null,
   "id": "473db038",
   "metadata": {},
   "outputs": [],
   "source": []
  },
  {
   "cell_type": "code",
   "execution_count": null,
   "id": "4b617422",
   "metadata": {},
   "outputs": [],
   "source": []
  },
  {
   "cell_type": "code",
   "execution_count": null,
   "id": "796d6e3f",
   "metadata": {},
   "outputs": [],
   "source": []
  },
  {
   "cell_type": "code",
   "execution_count": null,
   "id": "4a08384b",
   "metadata": {},
   "outputs": [],
   "source": []
  },
  {
   "cell_type": "code",
   "execution_count": null,
   "id": "1dc31862",
   "metadata": {},
   "outputs": [],
   "source": []
  },
  {
   "cell_type": "code",
   "execution_count": null,
   "id": "0733e417",
   "metadata": {},
   "outputs": [],
   "source": []
  },
  {
   "cell_type": "code",
   "execution_count": null,
   "id": "f5ebf55e",
   "metadata": {},
   "outputs": [],
   "source": []
  },
  {
   "cell_type": "code",
   "execution_count": null,
   "id": "6d087776",
   "metadata": {},
   "outputs": [],
   "source": []
  },
  {
   "cell_type": "code",
   "execution_count": null,
   "id": "9cbaa6df",
   "metadata": {},
   "outputs": [],
   "source": [
    "import pandas as pd\n",
    "from sklearn.model_selection import train_test_split\n",
    "from sklearn.linear_model import LinearRegression\n",
    "from sklearn.metrics import mean_squared_error"
   ]
  },
  {
   "cell_type": "code",
   "execution_count": null,
   "id": "7564dc78",
   "metadata": {},
   "outputs": [],
   "source": [
    "data=pd.read_csv(\"placement.csv\")"
   ]
  },
  {
   "cell_type": "code",
   "execution_count": null,
   "id": "02a0095d",
   "metadata": {},
   "outputs": [],
   "source": [
    "data.head(10)"
   ]
  },
  {
   "cell_type": "code",
   "execution_count": null,
   "id": "e0edc98e",
   "metadata": {},
   "outputs": [],
   "source": [
    "data.describe()"
   ]
  },
  {
   "cell_type": "code",
   "execution_count": null,
   "id": "ca30c46a",
   "metadata": {},
   "outputs": [],
   "source": [
    "data.info()"
   ]
  },
  {
   "cell_type": "code",
   "execution_count": null,
   "id": "97b9bb68",
   "metadata": {},
   "outputs": [],
   "source": [
    "from matplotlib import pyplot as plt"
   ]
  },
  {
   "cell_type": "code",
   "execution_count": null,
   "id": "702cbfa7",
   "metadata": {},
   "outputs": [],
   "source": [
    "#Scatter plot\n",
    "plt.figure(figsize=(5,5))\n",
    "plt.scatter(data['cgpa'],data['placed'])\n",
    "plt.xlabel('CGPA')\n",
    "plt.ylabel('Marks')"
   ]
  },
  {
   "cell_type": "code",
   "execution_count": null,
   "id": "e0a46c66",
   "metadata": {},
   "outputs": [],
   "source": [
    "x=data[['cgpa']]\n",
    "y=data[['placed']]"
   ]
  },
  {
   "cell_type": "code",
   "execution_count": null,
   "id": "10fe5961",
   "metadata": {},
   "outputs": [],
   "source": [
    "#splitting the data into training and testing\n",
    "x_train, x_test, y_train, y_test = train_test_split(x,y,test_size=0.2, random_state=200)\n"
   ]
  },
  {
   "cell_type": "code",
   "execution_count": null,
   "id": "53bf752a",
   "metadata": {},
   "outputs": [],
   "source": [
    "len(x_train)"
   ]
  },
  {
   "cell_type": "code",
   "execution_count": null,
   "id": "1e816bb8",
   "metadata": {},
   "outputs": [],
   "source": [
    "from sklearn.linear_model import LinearRegression   #Algorithm\n",
    "lr=LinearRegression()"
   ]
  },
  {
   "cell_type": "code",
   "execution_count": null,
   "id": "e2dedf19",
   "metadata": {},
   "outputs": [],
   "source": [
    "lr"
   ]
  },
  {
   "cell_type": "code",
   "execution_count": null,
   "id": "0a969f6e",
   "metadata": {},
   "outputs": [],
   "source": [
    "lr.fit(x_train,y_train)"
   ]
  },
  {
   "cell_type": "code",
   "execution_count": null,
   "id": "1c2599bb",
   "metadata": {},
   "outputs": [],
   "source": [
    "x_test.head()"
   ]
  },
  {
   "cell_type": "code",
   "execution_count": null,
   "id": "e1bab407",
   "metadata": {},
   "outputs": [],
   "source": [
    "lr.predict(x_test)"
   ]
  },
  {
   "cell_type": "code",
   "execution_count": null,
   "id": "c4a5a35b",
   "metadata": {},
   "outputs": [],
   "source": [
    "#plotting regression line\n",
    "plt.figure(figsize=(9,8))\n",
    "plt.scatter(data['cgpa'],data['placed'])\n",
    "plt.plot(x_train, lr.predict(x_train),color='red')\n",
    "plt.xlabel('cgpa')\n",
    "plt.ylabel('placed')"
   ]
  },
  {
   "cell_type": "code",
   "execution_count": null,
   "id": "be560300",
   "metadata": {},
   "outputs": [],
   "source": []
  },
  {
   "cell_type": "code",
   "execution_count": null,
   "id": "97aa98ba",
   "metadata": {},
   "outputs": [],
   "source": []
  },
  {
   "cell_type": "code",
   "execution_count": null,
   "id": "e6a790eb",
   "metadata": {},
   "outputs": [],
   "source": []
  },
  {
   "cell_type": "code",
   "execution_count": null,
   "id": "1e1d49d7",
   "metadata": {},
   "outputs": [],
   "source": []
  },
  {
   "cell_type": "code",
   "execution_count": null,
   "id": "da77d472",
   "metadata": {},
   "outputs": [],
   "source": []
  },
  {
   "cell_type": "code",
   "execution_count": null,
   "id": "754e1374",
   "metadata": {},
   "outputs": [],
   "source": []
  },
  {
   "cell_type": "code",
   "execution_count": null,
   "id": "d6710b15",
   "metadata": {},
   "outputs": [],
   "source": []
  },
  {
   "cell_type": "code",
   "execution_count": null,
   "id": "87e6610a",
   "metadata": {},
   "outputs": [],
   "source": []
  },
  {
   "cell_type": "code",
   "execution_count": null,
   "id": "3f267a8f",
   "metadata": {},
   "outputs": [],
   "source": []
  },
  {
   "cell_type": "code",
   "execution_count": null,
   "id": "923a61f5",
   "metadata": {},
   "outputs": [],
   "source": [
    "\"\"\"Importing modules\n",
    "   Importing dataset\n",
    "   Data analysis(cleaning,)\n",
    "   Data split(train,test)\n",
    "   Training the model\n",
    "   Evaluate model\n",
    "   \"\"\""
   ]
  },
  {
   "cell_type": "markdown",
   "id": "6d548b89",
   "metadata": {},
   "source": [
    "# Linear Regression\n"
   ]
  },
  {
   "cell_type": "code",
   "execution_count": null,
   "id": "aa1a6d87",
   "metadata": {},
   "outputs": [],
   "source": [
    "import pandas as pd\n",
    "import numpy as np\n",
    "import matplotlib.pyplot as plt\n",
    "import seaborn as sns"
   ]
  },
  {
   "cell_type": "markdown",
   "id": "fd7d66bc",
   "metadata": {},
   "source": [
    "Linear is a property between a pair of variables, which determines whether their relationship can be represented as a line\n",
    "   y=mx+c\n",
    "   \n",
    " It is also a property of operations performed on a variable. The four basic arithmetic operations are linear.\n",
    " \n",
    " Regression analysis is a a form of predictive modelling technique which investigates the relationship betweeen a dependent and independent variables.\n",
    " \n",
    " 3 major uses\n",
    " -determining the strength of predictors\n",
    " -forecasting an effect\n",
    " -trend forecasting"
   ]
  },
  {
   "cell_type": "code",
   "execution_count": null,
   "id": "19d9f599",
   "metadata": {},
   "outputs": [],
   "source": []
  },
  {
   "cell_type": "code",
   "execution_count": null,
   "id": "3172cadf",
   "metadata": {},
   "outputs": [],
   "source": []
  },
  {
   "cell_type": "code",
   "execution_count": null,
   "id": "07aa7873",
   "metadata": {},
   "outputs": [],
   "source": []
  },
  {
   "cell_type": "code",
   "execution_count": null,
   "id": "4741d638",
   "metadata": {},
   "outputs": [],
   "source": []
  },
  {
   "cell_type": "code",
   "execution_count": null,
   "id": "6c8bec2e",
   "metadata": {},
   "outputs": [],
   "source": []
  },
  {
   "cell_type": "code",
   "execution_count": null,
   "id": "baeaaa86",
   "metadata": {},
   "outputs": [],
   "source": []
  },
  {
   "cell_type": "code",
   "execution_count": null,
   "id": "4c560863",
   "metadata": {},
   "outputs": [],
   "source": []
  },
  {
   "cell_type": "code",
   "execution_count": null,
   "id": "6b5cc0f4",
   "metadata": {},
   "outputs": [],
   "source": []
  },
  {
   "cell_type": "code",
   "execution_count": null,
   "id": "ff53a241",
   "metadata": {},
   "outputs": [],
   "source": []
  },
  {
   "cell_type": "code",
   "execution_count": null,
   "id": "d31e6709",
   "metadata": {},
   "outputs": [],
   "source": []
  },
  {
   "cell_type": "code",
   "execution_count": null,
   "id": "41a7199f",
   "metadata": {},
   "outputs": [],
   "source": []
  },
  {
   "cell_type": "code",
   "execution_count": null,
   "id": "0e4825d4",
   "metadata": {},
   "outputs": [],
   "source": []
  },
  {
   "cell_type": "code",
   "execution_count": null,
   "id": "c67ab18f",
   "metadata": {},
   "outputs": [],
   "source": []
  },
  {
   "cell_type": "code",
   "execution_count": null,
   "id": "766f303a",
   "metadata": {},
   "outputs": [],
   "source": []
  },
  {
   "cell_type": "code",
   "execution_count": null,
   "id": "d1e50806",
   "metadata": {},
   "outputs": [],
   "source": []
  },
  {
   "cell_type": "code",
   "execution_count": null,
   "id": "1ea3dbcb",
   "metadata": {},
   "outputs": [],
   "source": []
  },
  {
   "cell_type": "code",
   "execution_count": null,
   "id": "49169df1",
   "metadata": {},
   "outputs": [],
   "source": []
  },
  {
   "cell_type": "code",
   "execution_count": null,
   "id": "484ec51f",
   "metadata": {},
   "outputs": [],
   "source": []
  },
  {
   "cell_type": "code",
   "execution_count": null,
   "id": "935ac8db",
   "metadata": {},
   "outputs": [],
   "source": []
  },
  {
   "cell_type": "code",
   "execution_count": null,
   "id": "0ed1e3c8",
   "metadata": {},
   "outputs": [],
   "source": []
  },
  {
   "cell_type": "code",
   "execution_count": null,
   "id": "af94a856",
   "metadata": {},
   "outputs": [],
   "source": []
  },
  {
   "cell_type": "code",
   "execution_count": null,
   "id": "4a41b743",
   "metadata": {},
   "outputs": [],
   "source": []
  },
  {
   "cell_type": "code",
   "execution_count": null,
   "id": "2fe711c4",
   "metadata": {},
   "outputs": [],
   "source": []
  },
  {
   "cell_type": "code",
   "execution_count": null,
   "id": "96901a5f",
   "metadata": {},
   "outputs": [],
   "source": []
  },
  {
   "cell_type": "code",
   "execution_count": null,
   "id": "42f1598b",
   "metadata": {},
   "outputs": [],
   "source": []
  }
 ],
 "metadata": {
  "kernelspec": {
   "display_name": "Python 3 (ipykernel)",
   "language": "python",
   "name": "python3"
  },
  "language_info": {
   "codemirror_mode": {
    "name": "ipython",
    "version": 3
   },
   "file_extension": ".py",
   "mimetype": "text/x-python",
   "name": "python",
   "nbconvert_exporter": "python",
   "pygments_lexer": "ipython3",
   "version": "3.9.13"
  }
 },
 "nbformat": 4,
 "nbformat_minor": 5
}
