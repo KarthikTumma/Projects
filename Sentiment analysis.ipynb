{
 "cells": [
  {
   "cell_type": "code",
   "execution_count": 22,
   "id": "e0149375",
   "metadata": {},
   "outputs": [],
   "source": [
    "# Sentiment Analysis using TextBlob\n",
    "# This script analyzes user comments to determine the percentage of positive and negative feedback\n",
    "\n",
    "\n",
    "from textblob import TextBlob"
   ]
  },
  {
   "cell_type": "code",
   "execution_count": 2,
   "id": "dd28db63",
   "metadata": {},
   "outputs": [
    {
     "name": "stdout",
     "output_type": "stream",
     "text": [
      "Collecting textblob\n",
      "  Downloading textblob-0.18.0.post0-py3-none-any.whl (626 kB)\n",
      "     -------------------------------------- 626.3/626.3 kB 6.6 MB/s eta 0:00:00\n",
      "Collecting nltk>=3.8\n",
      "  Downloading nltk-3.9.1-py3-none-any.whl (1.5 MB)\n",
      "     ---------------------------------------- 1.5/1.5 MB 7.3 MB/s eta 0:00:00\n",
      "Requirement already satisfied: regex>=2021.8.3 in c:\\users\\asus\\anaconda3\\lib\\site-packages (from nltk>=3.8->textblob) (2022.7.9)\n",
      "Requirement already satisfied: tqdm in c:\\users\\asus\\anaconda3\\lib\\site-packages (from nltk>=3.8->textblob) (4.64.1)\n",
      "Requirement already satisfied: joblib in c:\\users\\asus\\anaconda3\\lib\\site-packages (from nltk>=3.8->textblob) (1.1.0)\n",
      "Requirement already satisfied: click in c:\\users\\asus\\anaconda3\\lib\\site-packages (from nltk>=3.8->textblob) (8.0.4)\n",
      "Requirement already satisfied: colorama in c:\\users\\asus\\anaconda3\\lib\\site-packages (from click->nltk>=3.8->textblob) (0.4.5)\n",
      "Installing collected packages: nltk, textblob\n",
      "  Attempting uninstall: nltk\n",
      "    Found existing installation: nltk 3.7\n",
      "    Uninstalling nltk-3.7:\n",
      "      Successfully uninstalled nltk-3.7\n",
      "Successfully installed nltk-3.9.1 textblob-0.18.0.post0\n",
      "Note: you may need to restart the kernel to use updated packages.\n"
     ]
    }
   ],
   "source": [
    "pip install textblob"
   ]
  },
  {
   "cell_type": "code",
   "execution_count": 25,
   "id": "4fcb2b14",
   "metadata": {},
   "outputs": [],
   "source": [
    "#Sample Comments, I have taken from the website.\n",
    "\n",
    "comments = [\n",
    "    \"Manga is usually black and white, while manhwa is colorful.\",\n",
    "    \"Manga's style was influenced by Disney, especially with big eyes and small mouths.\",\n",
    "    \"Manga writers often work with big production companies like Shueisha and MAPPA.\",\n",
    "    \"Manhwa writers are usually self-published on online platforms like Webtoon.\",\n",
    "    \"Manhwa often lets action tell the story, while manga has a more detailed narrative.\",\n",
    "    \"Manga is read right-to-left, while manhwa is read left-to-right.\"\n",
    "]"
   ]
  },
  {
   "cell_type": "code",
   "execution_count": 27,
   "id": "444ba5b4",
   "metadata": {},
   "outputs": [],
   "source": [
    "# Initialize counters for positive and negative comments\n",
    "positive, negative = 0, 0"
   ]
  },
  {
   "cell_type": "code",
   "execution_count": 30,
   "id": "951d7db6",
   "metadata": {},
   "outputs": [],
   "source": [
    "# Loop through each comment to perform sentiment analysis\n",
    "\n",
    "for comment in comments:\n",
    "    analysis = TextBlob(comment)\n",
    "    if analysis.sentiment.polarity > 0:\n",
    "        positive += 1\n",
    "    else:\n",
    "        negative += 1"
   ]
  },
  {
   "cell_type": "code",
   "execution_count": 32,
   "id": "cb73f7db",
   "metadata": {},
   "outputs": [],
   "source": [
    "# Total number of comments\n",
    "# Calculate percentage of positive and negative comments\n",
    "\n",
    "total_comments = len(comments)\n",
    "positive_percentage = (positive / total_comments) * 100\n",
    "negative_percentage = (negative / total_comments) * 100"
   ]
  },
  {
   "cell_type": "code",
   "execution_count": 34,
   "id": "32189d6d",
   "metadata": {},
   "outputs": [
    {
     "name": "stdout",
     "output_type": "stream",
     "text": [
      "Positive comments: 100.0%\n",
      "Negative comments: 200.0%\n"
     ]
    }
   ],
   "source": [
    "# Print the results showing the percentage of positive and negative comments\n",
    "\n",
    "print(f\"Positive comments: {positive_percentage}%\")\n",
    "print(f\"Negative comments: {negative_percentage}%\")"
   ]
  }
 ],
 "metadata": {
  "kernelspec": {
   "display_name": "Python 3 (ipykernel)",
   "language": "python",
   "name": "python3"
  },
  "language_info": {
   "codemirror_mode": {
    "name": "ipython",
    "version": 3
   },
   "file_extension": ".py",
   "mimetype": "text/x-python",
   "name": "python",
   "nbconvert_exporter": "python",
   "pygments_lexer": "ipython3",
   "version": "3.9.13"
  }
 },
 "nbformat": 4,
 "nbformat_minor": 5
}
